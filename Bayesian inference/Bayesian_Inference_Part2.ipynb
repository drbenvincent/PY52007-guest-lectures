{
 "cells": [
  {
   "cell_type": "markdown",
   "metadata": {
    "slideshow": {
     "slide_type": "slide"
    }
   },
   "source": [
    "# PY52007 - Guest lecture on Bayesian Inference - Part II\n",
    "## Dr Benjamin T. Vincent"
   ]
  },
  {
   "cell_type": "markdown",
   "metadata": {
    "slideshow": {
     "slide_type": "slide"
    }
   },
   "source": [
    "## The custom probabilistic programming approach\n",
    "\n",
    "Until relatively recently, practically conducting Bayesian analyses required in-depth knowledge and programming abilities. Bayesian models were written in specialised probabilistic programming languages such as [winbugs](https://en.wikipedia.org/wiki/WinBUGS) and [JAGS](http://mcmc-jags.sourceforge.net). \n",
    "\n",
    "This approach of writing custom analysis is still popular, but the probabilistic programming languages have moved on. Today, we have [STAN](https://mc-stan.org) and [PyMC3](https://docs.pymc.io) as the core packages.\n",
    "\n",
    "This was made much more accessible with the advent of the textbook `Doing Bayesian Data Analysis` by John Kruschke. There is an associated blog at http://doingbayesiandataanalysis.blogspot.com.\n",
    "\n",
    "Another popular textbook to follow soon after was `Statistical Rethinking: A Bayesian Course with Examples in R and Stan`, by Richard McElreath."
   ]
  },
  {
   "cell_type": "markdown",
   "metadata": {
    "slideshow": {
     "slide_type": "slide"
    }
   },
   "source": [
    "## The point-and-click approach: JASP statistics\n",
    "While the probabilistic programming approach is still widely used, this does require a level of expertise in programming and statistical inference. In recent years more accessible SPSS-like software has emerged, namely [JASP](https://jasp-stats.org).\n",
    "\n",
    "This offers a wide range of traditional statistical tests (e.g. t-tests, regression models, ANOVA models, etc), but importantly it also provides Bayesian versions of these tests. The benefit is that it is much more accessible, and you can use the most commonly used statistical tests. The minor disadvantage however is that you are using a set of pre-defined tools, and so if you had a niche data analysis situation then you would have to fall back on the probabilistic programming approach."
   ]
  },
  {
   "cell_type": "markdown",
   "metadata": {
    "slideshow": {
     "slide_type": "slide"
    }
   },
   "source": [
    "(demo in [JASP](https://jasp-stats.org) here)"
   ]
  },
  {
   "cell_type": "code",
   "execution_count": null,
   "metadata": {},
   "outputs": [],
   "source": []
  }
 ],
 "metadata": {
  "kernelspec": {
   "display_name": "Python 3",
   "language": "python",
   "name": "python3"
  },
  "language_info": {
   "codemirror_mode": {
    "name": "ipython",
    "version": 3
   },
   "file_extension": ".py",
   "mimetype": "text/x-python",
   "name": "python",
   "nbconvert_exporter": "python",
   "pygments_lexer": "ipython3",
   "version": "3.7.4"
  }
 },
 "nbformat": 4,
 "nbformat_minor": 4
}
